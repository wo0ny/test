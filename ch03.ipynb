{
  "nbformat": 4,
  "nbformat_minor": 0,
  "metadata": {
    "colab": {
      "provenance": [],
      "collapsed_sections": []
    },
    "kernelspec": {
      "name": "python3",
      "display_name": "Python 3"
    },
    "language_info": {
      "name": "python"
    }
  },
  "cells": [
    {
      "cell_type": "code",
      "execution_count": 4,
      "metadata": {
        "id": "rkIGBjBsLOXZ"
      },
      "outputs": [],
      "source": [
        "#1-1 변수선언\n",
        "\n",
        "strVal = 'data science'                 #문자열 변수\n",
        "nVal = 12345                            #정수형 변수\n",
        "fVal = 1.2                              #실수형 변수\n",
        "lVal = {'data', 'science'}              #리스트\n",
        "dVal = {'lecture' : 'data science'}     #딕셔너리 \n",
        "bVal = True                             #논리형 변수(참/거짓)"
      ]
    },
    {
      "cell_type": "code",
      "source": [
        "#1-2 주석처리\n",
        "\n",
        "#기본적인 주석\n",
        "'''\n",
        "이런 형태의 주석도 많이 사용\n",
        "'''"
      ],
      "metadata": {
        "colab": {
          "base_uri": "https://localhost:8080/",
          "height": 36
        },
        "id": "lOl8uNPzQbJC",
        "outputId": "33300e13-da16-4a15-ea31-746069c5d6a0"
      },
      "execution_count": 5,
      "outputs": [
        {
          "output_type": "execute_result",
          "data": {
            "text/plain": [
              "'\\n이런 형태의 주석도 많이 사용\\n'"
            ],
            "application/vnd.google.colaboratory.intrinsic+json": {
              "type": "string"
            }
          },
          "metadata": {},
          "execution_count": 5
        }
      ]
    },
    {
      "cell_type": "code",
      "source": [
        "#1-3 변수의 값과 자료형 확인\n",
        "\n",
        "strVal"
      ],
      "metadata": {
        "colab": {
          "base_uri": "https://localhost:8080/",
          "height": 36
        },
        "id": "mNWilRhOQsf5",
        "outputId": "d2919674-b71f-4149-903c-b7aeddda9d4f"
      },
      "execution_count": 7,
      "outputs": [
        {
          "output_type": "execute_result",
          "data": {
            "text/plain": [
              "'data science'"
            ],
            "application/vnd.google.colaboratory.intrinsic+json": {
              "type": "string"
            }
          },
          "metadata": {},
          "execution_count": 7
        }
      ]
    },
    {
      "cell_type": "code",
      "source": [
        "nVal"
      ],
      "metadata": {
        "colab": {
          "base_uri": "https://localhost:8080/"
        },
        "id": "Bzzx9Ap_RCMr",
        "outputId": "324680d9-8210-4112-8b72-da2f24b6d18c"
      },
      "execution_count": 8,
      "outputs": [
        {
          "output_type": "execute_result",
          "data": {
            "text/plain": [
              "12345"
            ]
          },
          "metadata": {},
          "execution_count": 8
        }
      ]
    },
    {
      "cell_type": "code",
      "source": [
        "fVal"
      ],
      "metadata": {
        "colab": {
          "base_uri": "https://localhost:8080/"
        },
        "id": "BCLoq5r-RCdh",
        "outputId": "90792d29-785b-4dc3-aaa7-2f874c465f5e"
      },
      "execution_count": 9,
      "outputs": [
        {
          "output_type": "execute_result",
          "data": {
            "text/plain": [
              "1.2"
            ]
          },
          "metadata": {},
          "execution_count": 9
        }
      ]
    },
    {
      "cell_type": "code",
      "source": [
        "lVal"
      ],
      "metadata": {
        "colab": {
          "base_uri": "https://localhost:8080/"
        },
        "id": "-mB-UfJbRCoz",
        "outputId": "866b1c14-81bf-42db-b541-bf32fe32314d"
      },
      "execution_count": 10,
      "outputs": [
        {
          "output_type": "execute_result",
          "data": {
            "text/plain": [
              "{'data', 'science'}"
            ]
          },
          "metadata": {},
          "execution_count": 10
        }
      ]
    },
    {
      "cell_type": "code",
      "source": [
        "dVal"
      ],
      "metadata": {
        "colab": {
          "base_uri": "https://localhost:8080/"
        },
        "id": "sRC14aIORCyG",
        "outputId": "bb9b09d6-d52e-4cc2-904c-c658437cb4f6"
      },
      "execution_count": 11,
      "outputs": [
        {
          "output_type": "execute_result",
          "data": {
            "text/plain": [
              "{'lecture': 'data science'}"
            ]
          },
          "metadata": {},
          "execution_count": 11
        }
      ]
    },
    {
      "cell_type": "code",
      "source": [
        "bVal"
      ],
      "metadata": {
        "colab": {
          "base_uri": "https://localhost:8080/"
        },
        "id": "bV_eltrPRLVb",
        "outputId": "acd28d0c-e154-49ed-c547-93d4b05ba6db"
      },
      "execution_count": 12,
      "outputs": [
        {
          "output_type": "execute_result",
          "data": {
            "text/plain": [
              "True"
            ]
          },
          "metadata": {},
          "execution_count": 12
        }
      ]
    },
    {
      "cell_type": "code",
      "source": [
        "print('strVal : ', strVal)\n",
        "print('nVal : ', nVal)\n",
        "print('fVal : ', fVal)\n",
        "print('lVal : ', lVal)\n",
        "print('dVal : ', dVal)\n",
        "print('bVal : ', bVal)"
      ],
      "metadata": {
        "colab": {
          "base_uri": "https://localhost:8080/"
        },
        "id": "hO1SH3JjRQMO",
        "outputId": "09fba41f-5683-40ad-de50-16b0406777ea"
      },
      "execution_count": 13,
      "outputs": [
        {
          "output_type": "stream",
          "name": "stdout",
          "text": [
            "strVal :  data science\n",
            "nVal :  12345\n",
            "fVal :  1.2\n",
            "lVal :  {'data', 'science'}\n",
            "dVal :  {'lecture': 'data science'}\n",
            "bVal :  True\n"
          ]
        }
      ]
    },
    {
      "cell_type": "code",
      "source": [
        "print('strVal : ', type(strVal))\n",
        "print('nVal : ', type(nVal))\n",
        "print('fVal : ', type(fVal))\n",
        "print('lVal : ', type(lVal))\n",
        "print('dVal : ', type(dVal))\n",
        "print('bVal : ', type(bVal))"
      ],
      "metadata": {
        "colab": {
          "base_uri": "https://localhost:8080/"
        },
        "id": "LPxkGSWIRX78",
        "outputId": "232965ed-9304-468f-b726-b38fcb41c243"
      },
      "execution_count": 14,
      "outputs": [
        {
          "output_type": "stream",
          "name": "stdout",
          "text": [
            "strVal :  <class 'str'>\n",
            "nVal :  <class 'int'>\n",
            "fVal :  <class 'float'>\n",
            "lVal :  <class 'set'>\n",
            "dVal :  <class 'dict'>\n",
            "bVal :  <class 'bool'>\n"
          ]
        }
      ]
    },
    {
      "cell_type": "code",
      "source": [
        "#2-1 기본 자료형\n",
        "'''\n",
        "같은 변수명일 경우, 이전 데이터를 덮어씀\n",
        "'''\n",
        "nVal = 16         # 정수형 변수\n",
        "fVal = 3.14       # 실수형 변수"
      ],
      "metadata": {
        "id": "y3t4sPqORoM4"
      },
      "execution_count": 16,
      "outputs": []
    },
    {
      "cell_type": "code",
      "source": [
        "print('10진수 표현 : ', nVal)       # 10진수\n",
        "print('2진수 표현 : ', bin(nVal))  # 2진수\n",
        "print('8진수 표현 : ', oct(nVal))  # 8진수\n",
        "print('16진수 표현 : ', hex(nVal))  # 16진수"
      ],
      "metadata": {
        "colab": {
          "base_uri": "https://localhost:8080/"
        },
        "id": "ambybWpESFe4",
        "outputId": "33325877-51d7-4e25-f3a4-b4726abd93cd"
      },
      "execution_count": 17,
      "outputs": [
        {
          "output_type": "stream",
          "name": "stdout",
          "text": [
            "10진수 표현 :  16\n",
            "2진수 표현 :  0b10000\n",
            "8진수 표현 :  0o20\n",
            "16진수 표현 :  0x10\n"
          ]
        }
      ]
    },
    {
      "cell_type": "code",
      "source": [
        "#2-2 논리형 자료형 (또는 부울 자료형)\n",
        "btVal = True        #논리형 변수 (참)\n",
        "bfVal = False       #논리형 변수 (거짓)"
      ],
      "metadata": {
        "id": "Ap6_By_uSTA1"
      },
      "execution_count": 18,
      "outputs": []
    },
    {
      "cell_type": "code",
      "source": [
        "btVal = TRUE      #논리형 변수 (참) 오류\n",
        "bfVal = FALSE     #논리형 변수 (거짓) 오류"
      ],
      "metadata": {
        "colab": {
          "base_uri": "https://localhost:8080/",
          "height": 223
        },
        "id": "AQE4-wcUSh27",
        "outputId": "d6c6324c-31fb-4e29-d5ce-4b5eeb7eba89"
      },
      "execution_count": 20,
      "outputs": [
        {
          "output_type": "error",
          "ename": "NameError",
          "evalue": "ignored",
          "traceback": [
            "\u001b[0;31m---------------------------------------------------------------------------\u001b[0m",
            "\u001b[0;31mNameError\u001b[0m                                 Traceback (most recent call last)",
            "\u001b[0;32m<ipython-input-20-96396b9eaab4>\u001b[0m in \u001b[0;36m<module>\u001b[0;34m\u001b[0m\n\u001b[0;32m----> 1\u001b[0;31m \u001b[0mbtVal\u001b[0m \u001b[0;34m=\u001b[0m \u001b[0mTRUE\u001b[0m      \u001b[0;31m#논리형 변수 (참) 오류\u001b[0m\u001b[0;34m\u001b[0m\u001b[0;34m\u001b[0m\u001b[0m\n\u001b[0m\u001b[1;32m      2\u001b[0m \u001b[0mbfVal\u001b[0m \u001b[0;34m=\u001b[0m \u001b[0mFALSE\u001b[0m     \u001b[0;31m#논리형 변수 (거짓) 오류\u001b[0m\u001b[0;34m\u001b[0m\u001b[0;34m\u001b[0m\u001b[0m\n",
            "\u001b[0;31mNameError\u001b[0m: name 'TRUE' is not defined"
          ]
        }
      ]
    },
    {
      "cell_type": "code",
      "source": [
        "btVal = true        #논리형 변수 (참) 오류\n",
        "bfVal = false       #논리형 변수 (거짓) 오류"
      ],
      "metadata": {
        "colab": {
          "base_uri": "https://localhost:8080/",
          "height": 223
        },
        "id": "mhE3MDJ8Sw0I",
        "outputId": "76808586-3a26-41fd-ab2d-e26a4d95134c"
      },
      "execution_count": 22,
      "outputs": [
        {
          "output_type": "error",
          "ename": "NameError",
          "evalue": "ignored",
          "traceback": [
            "\u001b[0;31m---------------------------------------------------------------------------\u001b[0m",
            "\u001b[0;31mNameError\u001b[0m                                 Traceback (most recent call last)",
            "\u001b[0;32m<ipython-input-22-ab3dd7cb919a>\u001b[0m in \u001b[0;36m<module>\u001b[0;34m\u001b[0m\n\u001b[0;32m----> 1\u001b[0;31m \u001b[0mbtVal\u001b[0m \u001b[0;34m=\u001b[0m \u001b[0mtrue\u001b[0m        \u001b[0;31m#논리형 변수 (참) 오류\u001b[0m\u001b[0;34m\u001b[0m\u001b[0;34m\u001b[0m\u001b[0m\n\u001b[0m\u001b[1;32m      2\u001b[0m \u001b[0mbfVal\u001b[0m \u001b[0;34m=\u001b[0m \u001b[0mfalse\u001b[0m       \u001b[0;31m#논리형 변수 (거짓) 오류\u001b[0m\u001b[0;34m\u001b[0m\u001b[0;34m\u001b[0m\u001b[0m\n",
            "\u001b[0;31mNameError\u001b[0m: name 'true' is not defined"
          ]
        }
      ]
    },
    {
      "cell_type": "code",
      "source": [
        "#2-3 비교연산자\n",
        "10 == 11"
      ],
      "metadata": {
        "colab": {
          "base_uri": "https://localhost:8080/"
        },
        "id": "0F7yOsNsS_Us",
        "outputId": "18f9f1ff-20a4-4671-abb6-fe2807ab0bb6"
      },
      "execution_count": 24,
      "outputs": [
        {
          "output_type": "execute_result",
          "data": {
            "text/plain": [
              "True"
            ]
          },
          "metadata": {},
          "execution_count": 24
        }
      ]
    },
    {
      "cell_type": "code",
      "source": [
        "10 != 11"
      ],
      "metadata": {
        "colab": {
          "base_uri": "https://localhost:8080/"
        },
        "id": "zkeZyBtqTPH6",
        "outputId": "62bd30cc-1c5b-49d1-8f60-2a80ac7fc7a7"
      },
      "execution_count": 25,
      "outputs": [
        {
          "output_type": "execute_result",
          "data": {
            "text/plain": [
              "True"
            ]
          },
          "metadata": {},
          "execution_count": 25
        }
      ]
    },
    {
      "cell_type": "code",
      "source": [
        "10 >= 11"
      ],
      "metadata": {
        "colab": {
          "base_uri": "https://localhost:8080/"
        },
        "id": "3FmsJaDVTQAO",
        "outputId": "34bda952-05ff-40ee-af3a-2a5a971e895e"
      },
      "execution_count": 26,
      "outputs": [
        {
          "output_type": "execute_result",
          "data": {
            "text/plain": [
              "False"
            ]
          },
          "metadata": {},
          "execution_count": 26
        }
      ]
    },
    {
      "cell_type": "code",
      "source": [
        "10 <= 11"
      ],
      "metadata": {
        "colab": {
          "base_uri": "https://localhost:8080/"
        },
        "id": "tjF874eZTQD-",
        "outputId": "0400f976-5739-412f-8706-836eacbddfcf"
      },
      "execution_count": 27,
      "outputs": [
        {
          "output_type": "execute_result",
          "data": {
            "text/plain": [
              "True"
            ]
          },
          "metadata": {},
          "execution_count": 27
        }
      ]
    },
    {
      "cell_type": "code",
      "source": [
        "10 > 11"
      ],
      "metadata": {
        "colab": {
          "base_uri": "https://localhost:8080/"
        },
        "id": "INQvEwhtTQH2",
        "outputId": "7cbe2f85-765b-488f-f452-b510927e236f"
      },
      "execution_count": 28,
      "outputs": [
        {
          "output_type": "execute_result",
          "data": {
            "text/plain": [
              "False"
            ]
          },
          "metadata": {},
          "execution_count": 28
        }
      ]
    },
    {
      "cell_type": "code",
      "source": [
        "10 < 11"
      ],
      "metadata": {
        "colab": {
          "base_uri": "https://localhost:8080/"
        },
        "id": "NQtL56vHTQK9",
        "outputId": "d8236c8c-9310-424b-8dbc-4e250a59cedf"
      },
      "execution_count": 29,
      "outputs": [
        {
          "output_type": "execute_result",
          "data": {
            "text/plain": [
              "True"
            ]
          },
          "metadata": {},
          "execution_count": 29
        }
      ]
    },
    {
      "cell_type": "code",
      "source": [
        "nBig = 100\n",
        "nSmall = 10"
      ],
      "metadata": {
        "id": "c0ZKbI0STQN0"
      },
      "execution_count": 31,
      "outputs": []
    },
    {
      "cell_type": "code",
      "source": [
        "print(nBig == nSmall)\n",
        "print(nBig != nSmall)\n",
        "print(nBig >= nSmall)\n",
        "print(nBig <= nSmall)\n",
        "print(nBig > nSmall)\n",
        "print(nBig < nSmall)"
      ],
      "metadata": {
        "colab": {
          "base_uri": "https://localhost:8080/"
        },
        "id": "hyX1eF6DTQRA",
        "outputId": "3d43460a-e59c-4759-d05a-0cc102d0b453"
      },
      "execution_count": 32,
      "outputs": [
        {
          "output_type": "stream",
          "name": "stdout",
          "text": [
            "False\n",
            "True\n",
            "True\n",
            "False\n",
            "True\n",
            "False\n"
          ]
        }
      ]
    },
    {
      "cell_type": "code",
      "source": [
        "print(nBig =< nSmall)   #오류"
      ],
      "metadata": {
        "colab": {
          "base_uri": "https://localhost:8080/",
          "height": 134
        },
        "id": "96k8nhtFTuNT",
        "outputId": "f888d818-064f-4fb3-e2b0-bad62a87bc23"
      },
      "execution_count": 33,
      "outputs": [
        {
          "output_type": "error",
          "ename": "SyntaxError",
          "evalue": "ignored",
          "traceback": [
            "\u001b[0;36m  File \u001b[0;32m\"<ipython-input-33-0b238be3c407>\"\u001b[0;36m, line \u001b[0;32m1\u001b[0m\n\u001b[0;31m    print(nBig =< nSmall)   #오류\u001b[0m\n\u001b[0m                ^\u001b[0m\n\u001b[0;31mSyntaxError\u001b[0m\u001b[0;31m:\u001b[0m invalid syntax\n"
          ]
        }
      ]
    },
    {
      "cell_type": "code",
      "source": [
        "print(nBig => nSmall)   #오류"
      ],
      "metadata": {
        "colab": {
          "base_uri": "https://localhost:8080/",
          "height": 134
        },
        "id": "H9EMVSiXT08K",
        "outputId": "f74f3ba4-f137-4361-fe53-37316e020200"
      },
      "execution_count": 34,
      "outputs": [
        {
          "output_type": "error",
          "ename": "SyntaxError",
          "evalue": "ignored",
          "traceback": [
            "\u001b[0;36m  File \u001b[0;32m\"<ipython-input-34-4a039bcc1534>\"\u001b[0;36m, line \u001b[0;32m1\u001b[0m\n\u001b[0;31m    print(nBig => nSmall)   #오류\u001b[0m\n\u001b[0m                ^\u001b[0m\n\u001b[0;31mSyntaxError\u001b[0m\u001b[0;31m:\u001b[0m invalid syntax\n"
          ]
        }
      ]
    },
    {
      "cell_type": "code",
      "source": [
        "#3-1 문자열\n",
        "strData = 'data'    #문자열 변수\n",
        "strSci = \"Science\"  #문자열 변수"
      ],
      "metadata": {
        "id": "8dUFpUPRT_EL"
      },
      "execution_count": 35,
      "outputs": []
    },
    {
      "cell_type": "code",
      "source": [
        "strLecture = strData + strSci"
      ],
      "metadata": {
        "id": "MLi08qTGUQjh"
      },
      "execution_count": 36,
      "outputs": []
    },
    {
      "cell_type": "code",
      "source": [
        "strLecture"
      ],
      "metadata": {
        "colab": {
          "base_uri": "https://localhost:8080/",
          "height": 36
        },
        "id": "f9nzSeAnUX1g",
        "outputId": "898f89d4-2a3f-445a-85d7-d9ceb468925c"
      },
      "execution_count": 37,
      "outputs": [
        {
          "output_type": "execute_result",
          "data": {
            "text/plain": [
              "'dataScience'"
            ],
            "application/vnd.google.colaboratory.intrinsic+json": {
              "type": "string"
            }
          },
          "metadata": {},
          "execution_count": 37
        }
      ]
    },
    {
      "cell_type": "code",
      "source": [
        "strLecture = strData + \" \" + strSci\n",
        "strLecture"
      ],
      "metadata": {
        "colab": {
          "base_uri": "https://localhost:8080/",
          "height": 36
        },
        "id": "hIxjFJeRUaAr",
        "outputId": "da412129-b864-408e-e2a2-411b59cbb81b"
      },
      "execution_count": 39,
      "outputs": [
        {
          "output_type": "execute_result",
          "data": {
            "text/plain": [
              "'data Science'"
            ],
            "application/vnd.google.colaboratory.intrinsic+json": {
              "type": "string"
            }
          },
          "metadata": {},
          "execution_count": 39
        }
      ]
    },
    {
      "cell_type": "code",
      "source": [
        "strLecture.split()"
      ],
      "metadata": {
        "colab": {
          "base_uri": "https://localhost:8080/"
        },
        "id": "Hf_QcH60UoWO",
        "outputId": "b65e594c-bfad-4164-ab24-3eedc42d72d1"
      },
      "execution_count": 40,
      "outputs": [
        {
          "output_type": "execute_result",
          "data": {
            "text/plain": [
              "['data', 'Science']"
            ]
          },
          "metadata": {},
          "execution_count": 40
        }
      ]
    },
    {
      "cell_type": "code",
      "source": [
        "lSeperate = strLecture.split()"
      ],
      "metadata": {
        "id": "7_LKBa7BUsse"
      },
      "execution_count": 41,
      "outputs": []
    },
    {
      "cell_type": "code",
      "source": [
        "type(lSeperate)"
      ],
      "metadata": {
        "colab": {
          "base_uri": "https://localhost:8080/"
        },
        "id": "VQxS3AS0UzQl",
        "outputId": "7c5df7ef-44c1-4795-d000-237e2a374a76"
      },
      "execution_count": 42,
      "outputs": [
        {
          "output_type": "execute_result",
          "data": {
            "text/plain": [
              "list"
            ]
          },
          "metadata": {},
          "execution_count": 42
        }
      ]
    },
    {
      "cell_type": "code",
      "source": [
        "strHello = \"안녕하세요. 반갑습니다.\""
      ],
      "metadata": {
        "id": "Wf2rpnxhU8gw"
      },
      "execution_count": 1,
      "outputs": []
    },
    {
      "cell_type": "code",
      "source": [
        "strHello.find(\"반갑\")     #문자열을 찾기 위해 find() 함수를 이용 , 문자열이 있으면, 첫번째 시작 인덱스를 반환"
      ],
      "metadata": {
        "colab": {
          "base_uri": "https://localhost:8080/"
        },
        "id": "Z517wffsVCge",
        "outputId": "6e9bf0d4-aa05-4444-9fd0-a5a912c23aa7"
      },
      "execution_count": 2,
      "outputs": [
        {
          "output_type": "execute_result",
          "data": {
            "text/plain": [
              "7"
            ]
          },
          "metadata": {},
          "execution_count": 2
        }
      ]
    },
    {
      "cell_type": "code",
      "source": [
        "strHello.find(\"hello\")    #문자열이 없으면 -1을 리턴"
      ],
      "metadata": {
        "colab": {
          "base_uri": "https://localhost:8080/"
        },
        "id": "HrML_7OFiakD",
        "outputId": "7047eef1-0d3f-43ff-b58d-fb96824ab033"
      },
      "execution_count": 3,
      "outputs": [
        {
          "output_type": "execute_result",
          "data": {
            "text/plain": [
              "-1"
            ]
          },
          "metadata": {},
          "execution_count": 3
        }
      ]
    },
    {
      "cell_type": "code",
      "source": [
        "\"반갑\" in strHello  #in  명령어를 사용하여 확인 가능 : if 조건문에서 활용"
      ],
      "metadata": {
        "colab": {
          "base_uri": "https://localhost:8080/"
        },
        "id": "eZidYp7wihyP",
        "outputId": "c092fefd-cd06-4a1b-8fa7-3585a142fe73"
      },
      "execution_count": 5,
      "outputs": [
        {
          "output_type": "execute_result",
          "data": {
            "text/plain": [
              "True"
            ]
          },
          "metadata": {},
          "execution_count": 5
        }
      ]
    },
    {
      "cell_type": "code",
      "source": [
        "strHello.replace(\".\",'?')   #.을 모두 ?로 변경"
      ],
      "metadata": {
        "colab": {
          "base_uri": "https://localhost:8080/",
          "height": 36
        },
        "id": "mnTpA_Spi3jB",
        "outputId": "e837e9be-5bdd-4264-e94d-9b08920e432f"
      },
      "execution_count": 6,
      "outputs": [
        {
          "output_type": "execute_result",
          "data": {
            "text/plain": [
              "'안녕하세요? 반갑습니다?'"
            ],
            "application/vnd.google.colaboratory.intrinsic+json": {
              "type": "string"
            }
          },
          "metadata": {},
          "execution_count": 6
        }
      ]
    },
    {
      "cell_type": "code",
      "source": [
        "strHello.replace('.', '?')\n",
        "strHello.replace(\"하세요\", \"하셔유\")    #안녕하셔유? 가 될까용"
      ],
      "metadata": {
        "colab": {
          "base_uri": "https://localhost:8080/",
          "height": 36
        },
        "id": "V4beYxaIj0-M",
        "outputId": "a0beb41d-e1be-48a2-8930-7e84b3ac18e7"
      },
      "execution_count": 7,
      "outputs": [
        {
          "output_type": "execute_result",
          "data": {
            "text/plain": [
              "'안녕하셔유. 반갑습니다.'"
            ],
            "application/vnd.google.colaboratory.intrinsic+json": {
              "type": "string"
            }
          },
          "metadata": {},
          "execution_count": 7
        }
      ]
    },
    {
      "cell_type": "code",
      "source": [
        "strHello    #원본데이터는 변하지 않는다."
      ],
      "metadata": {
        "colab": {
          "base_uri": "https://localhost:8080/",
          "height": 36
        },
        "id": "sWGq6rLOkEyO",
        "outputId": "28d12465-24df-4a27-dc7c-a7e4a90cc490"
      },
      "execution_count": 8,
      "outputs": [
        {
          "output_type": "execute_result",
          "data": {
            "text/plain": [
              "'안녕하세요. 반갑습니다.'"
            ],
            "application/vnd.google.colaboratory.intrinsic+json": {
              "type": "string"
            }
          },
          "metadata": {},
          "execution_count": 8
        }
      ]
    },
    {
      "cell_type": "code",
      "source": [
        "strNewHello = strHello.replace('.', '?')                    # strHello를 replace하여 strNewHello에 저장   \n",
        "strNewHello = strNewHello.replace(\"하세요\", \"하셔유\")       # strNewHello를 replace하여 strNewHello에 저장\n",
        "strNewHello"
      ],
      "metadata": {
        "colab": {
          "base_uri": "https://localhost:8080/",
          "height": 36
        },
        "id": "tdfx3bDZkksk",
        "outputId": "bae4c19a-ef63-4d94-cb1d-50c60d985b33"
      },
      "execution_count": 9,
      "outputs": [
        {
          "output_type": "execute_result",
          "data": {
            "text/plain": [
              "'안녕하셔유? 반갑습니다?'"
            ],
            "application/vnd.google.colaboratory.intrinsic+json": {
              "type": "string"
            }
          },
          "metadata": {},
          "execution_count": 9
        }
      ]
    },
    {
      "cell_type": "code",
      "source": [
        "strHello.strip('반갑습니다.')  #strip() 함수를 이용하여 반갑습니다. 제거"
      ],
      "metadata": {
        "colab": {
          "base_uri": "https://localhost:8080/",
          "height": 36
        },
        "id": "JLD_64eKk49y",
        "outputId": "cb30dd3b-bdaf-4c7c-a24d-2f699bea6442"
      },
      "execution_count": 12,
      "outputs": [
        {
          "output_type": "execute_result",
          "data": {
            "text/plain": [
              "'안녕하세요. '"
            ],
            "application/vnd.google.colaboratory.intrinsic+json": {
              "type": "string"
            }
          },
          "metadata": {},
          "execution_count": 12
        }
      ]
    },
    {
      "cell_type": "code",
      "source": [
        "strHello   #원본 데이터는 변하지않음"
      ],
      "metadata": {
        "colab": {
          "base_uri": "https://localhost:8080/",
          "height": 36
        },
        "id": "_t3qSlf8lX5y",
        "outputId": "0f2661d8-cc54-41ae-c052-c2c5068cdf5d"
      },
      "execution_count": 13,
      "outputs": [
        {
          "output_type": "execute_result",
          "data": {
            "text/plain": [
              "'안녕하세요. 반갑습니다.'"
            ],
            "application/vnd.google.colaboratory.intrinsic+json": {
              "type": "string"
            }
          },
          "metadata": {},
          "execution_count": 13
        }
      ]
    },
    {
      "cell_type": "code",
      "source": [
        "#3-1 리스트\n",
        "InData = [1, 2, 3, 4, 5]     #InData를 리스트로 생성\n",
        "print(InData)\n",
        "print('type : ', type(InData))"
      ],
      "metadata": {
        "colab": {
          "base_uri": "https://localhost:8080/"
        },
        "id": "VlF0zIP9lttO",
        "outputId": "be14c76c-8abb-45a7-c885-1b6ec343b0be"
      },
      "execution_count": 14,
      "outputs": [
        {
          "output_type": "stream",
          "name": "stdout",
          "text": [
            "[1, 2, 3, 4, 5]\n",
            "type :  <class 'list'>\n"
          ]
        }
      ]
    },
    {
      "cell_type": "code",
      "source": [
        "#3-2 리스트 인덱싱\n",
        "print(InData[0])    #InData 리스트의 0번 인덱스의 값 출력\n",
        "print(InData[3])    #InData 리스트의 3번 인덱스의 값 출력"
      ],
      "metadata": {
        "colab": {
          "base_uri": "https://localhost:8080/"
        },
        "id": "8Cb7oMJxmILr",
        "outputId": "83655271-4a7c-4461-c3df-f5b2907aee3a"
      },
      "execution_count": 15,
      "outputs": [
        {
          "output_type": "stream",
          "name": "stdout",
          "text": [
            "1\n",
            "4\n"
          ]
        }
      ]
    },
    {
      "cell_type": "code",
      "source": [
        "InData[0] = InData[4]\n",
        "print(InData)"
      ],
      "metadata": {
        "colab": {
          "base_uri": "https://localhost:8080/"
        },
        "id": "2E1i-PlNmo1t",
        "outputId": "04a43ac8-0194-4d7c-9192-1bc2dfabbefa"
      },
      "execution_count": 16,
      "outputs": [
        {
          "output_type": "stream",
          "name": "stdout",
          "text": [
            "[5, 2, 3, 4, 5]\n"
          ]
        }
      ]
    },
    {
      "cell_type": "code",
      "source": [
        "#3-3 리스트 슬라이싱\n",
        "print(InData[2:4])"
      ],
      "metadata": {
        "colab": {
          "base_uri": "https://localhost:8080/"
        },
        "id": "CYW6EMY-mwGs",
        "outputId": "f9b3431a-d1a4-421b-cdc0-91c24565eeec"
      },
      "execution_count": 17,
      "outputs": [
        {
          "output_type": "stream",
          "name": "stdout",
          "text": [
            "[3, 4]\n"
          ]
        }
      ]
    },
    {
      "cell_type": "code",
      "source": [
        "#3-4 리스트 기본 연산\n",
        "InData = [1,2,3,4,5]\n",
        "lstrData = ['a', 'b', 'c']\n",
        "\n",
        "#두 개의 서로다른 자료형을 가진 리스트를 병합\n",
        "InData + lstrData"
      ],
      "metadata": {
        "colab": {
          "base_uri": "https://localhost:8080/"
        },
        "id": "m7ud-bwQm8IL",
        "outputId": "e90231f5-d1ae-496a-8dc1-3ba27df2d1f8"
      },
      "execution_count": 3,
      "outputs": [
        {
          "output_type": "execute_result",
          "data": {
            "text/plain": [
              "[1, 2, 3, 4, 5, 'a', 'b', 'c']"
            ]
          },
          "metadata": {},
          "execution_count": 3
        }
      ]
    },
    {
      "cell_type": "code",
      "source": [
        "InData.append(10) #10을 맨 뒤에 추가\n",
        "InData"
      ],
      "metadata": {
        "colab": {
          "base_uri": "https://localhost:8080/"
        },
        "id": "cthOoEidnWX2",
        "outputId": "73e22d07-15b7-4bda-fbe0-149e470f86dd"
      },
      "execution_count": 19,
      "outputs": [
        {
          "output_type": "execute_result",
          "data": {
            "text/plain": [
              "[1, 2, 3, 4, 5, 10]"
            ]
          },
          "metadata": {},
          "execution_count": 19
        }
      ]
    },
    {
      "cell_type": "code",
      "source": [
        "InData.insert(0, 'python') #'python' 문자열을 0번 인덱스에 추가하고, 기존 인덱스에 저장된 데이터는 하나씩 뒤로 밀림 (인덱스가 +1)\n",
        "InData"
      ],
      "metadata": {
        "colab": {
          "base_uri": "https://localhost:8080/"
        },
        "id": "zd2dgrjxoV8z",
        "outputId": "fe43db94-5b17-4d84-b003-b27d95cd0061"
      },
      "execution_count": 22,
      "outputs": [
        {
          "output_type": "execute_result",
          "data": {
            "text/plain": [
              "['python', 'python', 'python', 1, 2, 3, 4, 5, 10]"
            ]
          },
          "metadata": {},
          "execution_count": 22
        }
      ]
    },
    {
      "cell_type": "code",
      "source": [
        "InData.remove('python').  #'python' 데이터를 삭제\n",
        "InData"
      ],
      "metadata": {
        "colab": {
          "base_uri": "https://localhost:8080/"
        },
        "id": "2Z0KW_2doaZ1",
        "outputId": "d75e5414-a26c-4348-e6ac-b171534de590"
      },
      "execution_count": 28,
      "outputs": [
        {
          "output_type": "execute_result",
          "data": {
            "text/plain": [
              "[1, 2, 3, 4, 5, 10]"
            ]
          },
          "metadata": {},
          "execution_count": 28
        }
      ]
    },
    {
      "cell_type": "code",
      "source": [
        "del InData[5]   #del 명령어를 통해 인덱스를 지정하여 삭제\n",
        "InData"
      ],
      "metadata": {
        "colab": {
          "base_uri": "https://localhost:8080/"
        },
        "id": "Sw7ifRyYovNN",
        "outputId": "1f191c02-ed22-4afe-8216-02e81ff770cf"
      },
      "execution_count": 29,
      "outputs": [
        {
          "output_type": "execute_result",
          "data": {
            "text/plain": [
              "[1, 2, 3, 4, 5]"
            ]
          },
          "metadata": {},
          "execution_count": 29
        }
      ]
    },
    {
      "cell_type": "code",
      "source": [
        "InData"
      ],
      "metadata": {
        "colab": {
          "base_uri": "https://localhost:8080/"
        },
        "id": "EHja-xUHo-qI",
        "outputId": "c4a214ab-b7f2-4098-8b58-fe57d5e0711c"
      },
      "execution_count": 4,
      "outputs": [
        {
          "output_type": "execute_result",
          "data": {
            "text/plain": [
              "[1, 2, 3, 4, 5]"
            ]
          },
          "metadata": {},
          "execution_count": 4
        }
      ]
    },
    {
      "cell_type": "code",
      "source": [
        "InData.pop(0)    #0번 인덱스의 데이터를 삭제\n",
        "InData"
      ],
      "metadata": {
        "colab": {
          "base_uri": "https://localhost:8080/"
        },
        "id": "o86cIlqvpBBX",
        "outputId": "d8c1c275-c702-4251-8cd0-e962cfc9d6b7"
      },
      "execution_count": 31,
      "outputs": [
        {
          "output_type": "execute_result",
          "data": {
            "text/plain": [
              "[2, 3, 4, 5]"
            ]
          },
          "metadata": {},
          "execution_count": 31
        }
      ]
    },
    {
      "cell_type": "code",
      "source": [
        "InData.pop()    #인덱스 지정이 없으면, 마지막 인덱스의 값을 삭제\n",
        "InData"
      ],
      "metadata": {
        "colab": {
          "base_uri": "https://localhost:8080/"
        },
        "id": "gsJg040spLmT",
        "outputId": "9b833e1f-7f3e-431d-e44a-ea683fc00704"
      },
      "execution_count": 33,
      "outputs": [
        {
          "output_type": "execute_result",
          "data": {
            "text/plain": [
              "[2, 3]"
            ]
          },
          "metadata": {},
          "execution_count": 33
        }
      ]
    },
    {
      "cell_type": "code",
      "source": [
        "InData.clear()   #리스트의 모든 데이터를 삭제\n",
        "InData"
      ],
      "metadata": {
        "colab": {
          "base_uri": "https://localhost:8080/"
        },
        "id": "tQnJn1CQpTJ3",
        "outputId": "6f9dec53-3bfe-4c70-aa6d-18da23735c02"
      },
      "execution_count": 5,
      "outputs": [
        {
          "output_type": "execute_result",
          "data": {
            "text/plain": [
              "[]"
            ]
          },
          "metadata": {},
          "execution_count": 5
        }
      ]
    },
    {
      "cell_type": "code",
      "source": [
        "#4-1 튜플\n",
        "#튜플의 기본 구조\n",
        "tVal = (\"사과\", \"딸기\", \"바나나\", \"토마토\", \"키위\")\n",
        "\n",
        "print(tVal)\n",
        "print(type(tVal))"
      ],
      "metadata": {
        "colab": {
          "base_uri": "https://localhost:8080/"
        },
        "id": "u6zVEZuNphXR",
        "outputId": "4a9004ae-9230-45e0-c32f-a5326d00b947"
      },
      "execution_count": 6,
      "outputs": [
        {
          "output_type": "stream",
          "name": "stdout",
          "text": [
            "('사과', '딸기', '바나나', '토마토', '키위')\n",
            "<class 'tuple'>\n"
          ]
        }
      ]
    },
    {
      "cell_type": "code",
      "source": [
        "#튜플에 저장된 데이터는 변경이 불가능\n",
        "tVal[0] = \"포도\""
      ],
      "metadata": {
        "colab": {
          "base_uri": "https://localhost:8080/",
          "height": 223
        },
        "id": "dX0XJ1yAJIev",
        "outputId": "b791fed2-4f50-4cd1-ed73-0d9886744f19"
      },
      "execution_count": 7,
      "outputs": [
        {
          "output_type": "error",
          "ename": "TypeError",
          "evalue": "ignored",
          "traceback": [
            "\u001b[0;31m---------------------------------------------------------------------------\u001b[0m",
            "\u001b[0;31mTypeError\u001b[0m                                 Traceback (most recent call last)",
            "\u001b[0;32m<ipython-input-7-a9ddc6e8467b>\u001b[0m in \u001b[0;36m<module>\u001b[0;34m\u001b[0m\n\u001b[1;32m      1\u001b[0m \u001b[0;31m#튜플에 저장된 데이터는 변경이 불가능\u001b[0m\u001b[0;34m\u001b[0m\u001b[0;34m\u001b[0m\u001b[0;34m\u001b[0m\u001b[0m\n\u001b[0;32m----> 2\u001b[0;31m \u001b[0mtVal\u001b[0m\u001b[0;34m[\u001b[0m\u001b[0;36m0\u001b[0m\u001b[0;34m]\u001b[0m \u001b[0;34m=\u001b[0m \u001b[0;34m\"포도\"\u001b[0m\u001b[0;34m\u001b[0m\u001b[0;34m\u001b[0m\u001b[0m\n\u001b[0m",
            "\u001b[0;31mTypeError\u001b[0m: 'tuple' object does not support item assignment"
          ]
        }
      ]
    },
    {
      "cell_type": "code",
      "source": [
        "#count() 함수를 이용하여 튜플에 저자오딘 특정 데이터의 개수를 확인\n",
        "tData = (1, 2, 3, 1, 2, 3, 4, 5, 1, 2, 7)\n",
        "tData.count(1)"
      ],
      "metadata": {
        "colab": {
          "base_uri": "https://localhost:8080/"
        },
        "id": "Heda21FUJQer",
        "outputId": "b7262120-da3a-4a96-bc08-56eef89b0cc4"
      },
      "execution_count": 8,
      "outputs": [
        {
          "output_type": "execute_result",
          "data": {
            "text/plain": [
              "3"
            ]
          },
          "metadata": {},
          "execution_count": 8
        }
      ]
    },
    {
      "cell_type": "code",
      "source": [
        "#len()함수를 이용하여 튜플에 저장된 전체 데이터 개수를 확인\n",
        "len(tVal)"
      ],
      "metadata": {
        "colab": {
          "base_uri": "https://localhost:8080/"
        },
        "id": "lbP2XVJdJltz",
        "outputId": "f60b874d-58b1-4b37-d566-5f38eb7ba0f0"
      },
      "execution_count": 9,
      "outputs": [
        {
          "output_type": "execute_result",
          "data": {
            "text/plain": [
              "5"
            ]
          },
          "metadata": {},
          "execution_count": 9
        }
      ]
    },
    {
      "cell_type": "code",
      "source": [
        "len(tData)"
      ],
      "metadata": {
        "colab": {
          "base_uri": "https://localhost:8080/"
        },
        "id": "MHrNctZuJuRp",
        "outputId": "7c68baaa-993f-4dc7-e9f0-5952c3dbb2bb"
      },
      "execution_count": 10,
      "outputs": [
        {
          "output_type": "execute_result",
          "data": {
            "text/plain": [
              "11"
            ]
          },
          "metadata": {},
          "execution_count": 10
        }
      ]
    },
    {
      "cell_type": "code",
      "source": [
        "print(tData[2:5])"
      ],
      "metadata": {
        "colab": {
          "base_uri": "https://localhost:8080/"
        },
        "id": "2A0a7PeZJw9y",
        "outputId": "88eff060-c724-4c55-f5b3-8a050dc24980"
      },
      "execution_count": 11,
      "outputs": [
        {
          "output_type": "stream",
          "name": "stdout",
          "text": [
            "(3, 1, 2)\n"
          ]
        }
      ]
    },
    {
      "cell_type": "code",
      "source": [
        "# 4-2 튜플 데이터 병합\n",
        "tTuple = tVal + tData\n",
        "print(tTuple)"
      ],
      "metadata": {
        "colab": {
          "base_uri": "https://localhost:8080/"
        },
        "id": "0949b4xZJ0Mb",
        "outputId": "11664548-a2b2-433d-e5a5-0c716fb1421f"
      },
      "execution_count": 12,
      "outputs": [
        {
          "output_type": "stream",
          "name": "stdout",
          "text": [
            "('사과', '딸기', '바나나', '토마토', '키위', 1, 2, 3, 1, 2, 3, 4, 5, 1, 2, 7)\n"
          ]
        }
      ]
    },
    {
      "cell_type": "code",
      "source": [
        "# 4-3 튜플 데이터 반복\n",
        "tData * 2"
      ],
      "metadata": {
        "colab": {
          "base_uri": "https://localhost:8080/"
        },
        "id": "K3KPMwVbJ-wx",
        "outputId": "5e8e06c3-d398-4751-b2ca-898deffdfaf2"
      },
      "execution_count": 13,
      "outputs": [
        {
          "output_type": "execute_result",
          "data": {
            "text/plain": [
              "(1, 2, 3, 1, 2, 3, 4, 5, 1, 2, 7, 1, 2, 3, 1, 2, 3, 4, 5, 1, 2, 7)"
            ]
          },
          "metadata": {},
          "execution_count": 13
        }
      ]
    },
    {
      "cell_type": "code",
      "source": [
        "tData"
      ],
      "metadata": {
        "colab": {
          "base_uri": "https://localhost:8080/"
        },
        "id": "YnyG6PPyKGF9",
        "outputId": "9115e301-5277-4cec-ef86-06838065b342"
      },
      "execution_count": 14,
      "outputs": [
        {
          "output_type": "execute_result",
          "data": {
            "text/plain": [
              "(1, 2, 3, 1, 2, 3, 4, 5, 1, 2, 7)"
            ]
          },
          "metadata": {},
          "execution_count": 14
        }
      ]
    },
    {
      "cell_type": "code",
      "source": [
        "tData2 = tData * 2\n",
        "print(tData2)"
      ],
      "metadata": {
        "colab": {
          "base_uri": "https://localhost:8080/"
        },
        "id": "nJcMBvPOKIti",
        "outputId": "08ca7db5-66be-4df1-c318-865bf6b2f99b"
      },
      "execution_count": 15,
      "outputs": [
        {
          "output_type": "stream",
          "name": "stdout",
          "text": [
            "(1, 2, 3, 1, 2, 3, 4, 5, 1, 2, 7, 1, 2, 3, 1, 2, 3, 4, 5, 1, 2, 7)\n"
          ]
        }
      ]
    },
    {
      "cell_type": "code",
      "source": [
        "print(\"tVal memory = \", hex(id(tVal)))\n",
        "tVal = tVal * 2\n",
        "print(\"tVal memory = \", hex(id(tVal)))\n",
        "print(tVal)"
      ],
      "metadata": {
        "colab": {
          "base_uri": "https://localhost:8080/"
        },
        "id": "VaQoXSwcKbSF",
        "outputId": "8b3ff261-ac5c-4624-a972-7dad9ac7f22d"
      },
      "execution_count": 16,
      "outputs": [
        {
          "output_type": "stream",
          "name": "stdout",
          "text": [
            "tVal memory =  0x7f9d41fd2bf0\n",
            "tVal memory =  0x7f9d3d7bf0e0\n",
            "('사과', '딸기', '바나나', '토마토', '키위', '사과', '딸기', '바나나', '토마토', '키위')\n"
          ]
        }
      ]
    },
    {
      "cell_type": "code",
      "source": [
        "print(\"tVal memory = \", hex(id(tVal)))\n",
        "tVal = tVal + tVal\n",
        "print(\"tVal memory = \", hex(id(tVal)))\n",
        "print(tVal)"
      ],
      "metadata": {
        "colab": {
          "base_uri": "https://localhost:8080/"
        },
        "id": "s0wOQViJKj5e",
        "outputId": "d74913e6-60cc-4a80-a9ef-99251baca5ce"
      },
      "execution_count": 17,
      "outputs": [
        {
          "output_type": "stream",
          "name": "stdout",
          "text": [
            "tVal memory =  0x7f9d3d7bf0e0\n",
            "tVal memory =  0x7f9d44f3f2f0\n",
            "('사과', '딸기', '바나나', '토마토', '키위', '사과', '딸기', '바나나', '토마토', '키위', '사과', '딸기', '바나나', '토마토', '키위', '사과', '딸기', '바나나', '토마토', '키위')\n"
          ]
        }
      ]
    },
    {
      "cell_type": "code",
      "source": [
        "# 5-1 셋\n",
        "sVal = {1, 2, 3, 4, 5}\n",
        "print(sVal)\n",
        "print(type(sVal))"
      ],
      "metadata": {
        "colab": {
          "base_uri": "https://localhost:8080/"
        },
        "id": "PEQQYSr-KojG",
        "outputId": "709f94d8-512f-4f2f-c1c9-1b44f941c46e"
      },
      "execution_count": 18,
      "outputs": [
        {
          "output_type": "stream",
          "name": "stdout",
          "text": [
            "{1, 2, 3, 4, 5}\n",
            "<class 'set'>\n"
          ]
        }
      ]
    },
    {
      "cell_type": "code",
      "source": [
        "sVal[1:2]"
      ],
      "metadata": {
        "colab": {
          "base_uri": "https://localhost:8080/",
          "height": 205
        },
        "id": "hhelk99yK0Bs",
        "outputId": "697dd0d0-1aa2-457b-a5ee-84850c0752d0"
      },
      "execution_count": 19,
      "outputs": [
        {
          "output_type": "error",
          "ename": "TypeError",
          "evalue": "ignored",
          "traceback": [
            "\u001b[0;31m---------------------------------------------------------------------------\u001b[0m",
            "\u001b[0;31mTypeError\u001b[0m                                 Traceback (most recent call last)",
            "\u001b[0;32m<ipython-input-19-5e16076670ae>\u001b[0m in \u001b[0;36m<module>\u001b[0;34m\u001b[0m\n\u001b[0;32m----> 1\u001b[0;31m \u001b[0msVal\u001b[0m\u001b[0;34m[\u001b[0m\u001b[0;36m1\u001b[0m\u001b[0;34m:\u001b[0m\u001b[0;36m2\u001b[0m\u001b[0;34m]\u001b[0m\u001b[0;34m\u001b[0m\u001b[0;34m\u001b[0m\u001b[0m\n\u001b[0m",
            "\u001b[0;31mTypeError\u001b[0m: 'set' object is not subscriptable"
          ]
        }
      ]
    },
    {
      "cell_type": "code",
      "source": [
        "# add 함수를 이용하여 데이터를 추가할 수 있음\n",
        "sVal.add(100)\n",
        "print(sVal)"
      ],
      "metadata": {
        "colab": {
          "base_uri": "https://localhost:8080/"
        },
        "id": "8opMhKUmK2-_",
        "outputId": "489b06e4-88df-4462-fe7a-98a7cf4ed932"
      },
      "execution_count": 20,
      "outputs": [
        {
          "output_type": "stream",
          "name": "stdout",
          "text": [
            "{1, 2, 3, 4, 5, 100}\n"
          ]
        }
      ]
    },
    {
      "cell_type": "code",
      "source": [
        "# update 함수를 이용하여 여러개의 데이터를 추가할 수 있음\n",
        "sVal.update([200, 300])\n",
        "print(sVal)"
      ],
      "metadata": {
        "colab": {
          "base_uri": "https://localhost:8080/"
        },
        "id": "pDfr2TAeK87g",
        "outputId": "5b483129-9ed7-412f-8a0f-a5b085e72830"
      },
      "execution_count": 21,
      "outputs": [
        {
          "output_type": "stream",
          "name": "stdout",
          "text": [
            "{1, 2, 3, 4, 5, 100, 200, 300}\n"
          ]
        }
      ]
    },
    {
      "cell_type": "code",
      "source": [
        "# remove 함수를 이용하여 데이터를 삭제할 수 있음\n",
        "sVal.remove(200)\n",
        "print(sVal)"
      ],
      "metadata": {
        "colab": {
          "base_uri": "https://localhost:8080/"
        },
        "id": "e3cHyq4uLG-M",
        "outputId": "b7ce0dc6-d66f-473f-d8e4-f7e37870d627"
      },
      "execution_count": 23,
      "outputs": [
        {
          "output_type": "stream",
          "name": "stdout",
          "text": [
            "{1, 2, 3, 4, 5, 100, 300}\n"
          ]
        }
      ]
    },
    {
      "cell_type": "code",
      "source": [
        "# clear() 함수를 이용하여 데이터를 초기화 할 수 있음\n",
        "sVal.clear()\n",
        "print(sVal)"
      ],
      "metadata": {
        "colab": {
          "base_uri": "https://localhost:8080/"
        },
        "id": "NepkbB8pLvEj",
        "outputId": "986847fc-3a87-4a60-c8d3-73824f9cb761"
      },
      "execution_count": 25,
      "outputs": [
        {
          "output_type": "stream",
          "name": "stdout",
          "text": [
            "set()\n"
          ]
        }
      ]
    },
    {
      "cell_type": "code",
      "source": [
        "# 5-2 집합 연산\n",
        "sVal = {100, 200, 300, 400, 500}\n",
        "sData = {\"a\", \"b\", \"c\", \"c\", 100, 300}\n",
        "print(sVal)\n",
        "print(sData)"
      ],
      "metadata": {
        "colab": {
          "base_uri": "https://localhost:8080/"
        },
        "id": "goJvWwlML7pN",
        "outputId": "c44366da-95b7-4626-d1c6-116783096089"
      },
      "execution_count": 26,
      "outputs": [
        {
          "output_type": "stream",
          "name": "stdout",
          "text": [
            "{100, 200, 300, 400, 500}\n",
            "{100, 'c', 'b', 300, 'a'}\n"
          ]
        }
      ]
    },
    {
      "cell_type": "code",
      "source": [
        "# intersection() 함수를 이용하여 교집합을 만들 수 있음\n",
        "sVal.intersection(sData)"
      ],
      "metadata": {
        "colab": {
          "base_uri": "https://localhost:8080/"
        },
        "id": "8lCwPruFMDqW",
        "outputId": "daca3b72-c11d-4378-9d9a-2685b0cd9d78"
      },
      "execution_count": 27,
      "outputs": [
        {
          "output_type": "execute_result",
          "data": {
            "text/plain": [
              "{100, 300}"
            ]
          },
          "metadata": {},
          "execution_count": 27
        }
      ]
    },
    {
      "cell_type": "code",
      "source": [
        "# deference() 함수를 이용하여 차집합을 만들 수 있음\n",
        "sVal.difference(sData)"
      ],
      "metadata": {
        "colab": {
          "base_uri": "https://localhost:8080/"
        },
        "id": "4aXzMkcGMG_F",
        "outputId": "8671861e-3bf4-4f85-ac13-0089ec6e795f"
      },
      "execution_count": 28,
      "outputs": [
        {
          "output_type": "execute_result",
          "data": {
            "text/plain": [
              "{200, 400, 500}"
            ]
          },
          "metadata": {},
          "execution_count": 28
        }
      ]
    },
    {
      "cell_type": "code",
      "source": [
        "# \"-\" 연산자로도 가능\n",
        "sVal - sData"
      ],
      "metadata": {
        "colab": {
          "base_uri": "https://localhost:8080/"
        },
        "id": "04MPQrF2MHHf",
        "outputId": "cc194b40-33c3-4335-cafe-a7948ce97043"
      },
      "execution_count": 29,
      "outputs": [
        {
          "output_type": "execute_result",
          "data": {
            "text/plain": [
              "{200, 400, 500}"
            ]
          },
          "metadata": {},
          "execution_count": 29
        }
      ]
    },
    {
      "cell_type": "code",
      "source": [
        "# union() 함수를 이용하여 합집합을 만들 수 있음\n",
        "sVal.union(sData)"
      ],
      "metadata": {
        "colab": {
          "base_uri": "https://localhost:8080/"
        },
        "id": "ipaJdvRiMMS0",
        "outputId": "53043bde-03e3-4c68-8422-c47280a41645"
      },
      "execution_count": 30,
      "outputs": [
        {
          "output_type": "execute_result",
          "data": {
            "text/plain": [
              "{100, 200, 300, 400, 500, 'a', 'b', 'c'}"
            ]
          },
          "metadata": {},
          "execution_count": 30
        }
      ]
    },
    {
      "cell_type": "code",
      "source": [
        "# \"+\"연산자는 불가능\n",
        "sVal + sData"
      ],
      "metadata": {
        "colab": {
          "base_uri": "https://localhost:8080/",
          "height": 223
        },
        "id": "HtAJQaTvMPB2",
        "outputId": "4506ca33-7e56-4b26-9215-72ebe9dea31d"
      },
      "execution_count": 31,
      "outputs": [
        {
          "output_type": "error",
          "ename": "TypeError",
          "evalue": "ignored",
          "traceback": [
            "\u001b[0;31m---------------------------------------------------------------------------\u001b[0m",
            "\u001b[0;31mTypeError\u001b[0m                                 Traceback (most recent call last)",
            "\u001b[0;32m<ipython-input-31-5d8368e576a2>\u001b[0m in \u001b[0;36m<module>\u001b[0;34m\u001b[0m\n\u001b[1;32m      1\u001b[0m \u001b[0;31m# \"+\"연산자는 불가능\u001b[0m\u001b[0;34m\u001b[0m\u001b[0;34m\u001b[0m\u001b[0;34m\u001b[0m\u001b[0m\n\u001b[0;32m----> 2\u001b[0;31m \u001b[0msVal\u001b[0m \u001b[0;34m+\u001b[0m \u001b[0msData\u001b[0m\u001b[0;34m\u001b[0m\u001b[0;34m\u001b[0m\u001b[0m\n\u001b[0m",
            "\u001b[0;31mTypeError\u001b[0m: unsupported operand type(s) for +: 'set' and 'set'"
          ]
        }
      ]
    },
    {
      "cell_type": "code",
      "source": [
        "# symetric_difference()를 이용하여 합집합에서 교집합을 뺀 집합을 만들 수 있음\n",
        "sVal.symmetric_difference(sData)"
      ],
      "metadata": {
        "colab": {
          "base_uri": "https://localhost:8080/"
        },
        "id": "r7W6z33gMSdR",
        "outputId": "244c802c-5b78-4f38-9681-4162f8146bfe"
      },
      "execution_count": 32,
      "outputs": [
        {
          "output_type": "execute_result",
          "data": {
            "text/plain": [
              "{200, 400, 500, 'a', 'b', 'c'}"
            ]
          },
          "metadata": {},
          "execution_count": 32
        }
      ]
    },
    {
      "cell_type": "code",
      "source": [
        "# 6-1 딕셔너리\n",
        "# 딕셔너리 기본 구조는 다음과 같이 표현할 수 있음\n",
        "dVal = {\n",
        "    'name' : '이컴공',\n",
        "    'email' : 'computer@hoseo.edu',\n",
        "    'address' : '충남 아산시'\n",
        "}\n",
        "print(dVal)"
      ],
      "metadata": {
        "colab": {
          "base_uri": "https://localhost:8080/"
        },
        "id": "1Ks2QEiLMYue",
        "outputId": "deaf94be-9622-4ed9-d4e5-f7d23073744e"
      },
      "execution_count": 33,
      "outputs": [
        {
          "output_type": "stream",
          "name": "stdout",
          "text": [
            "{'name': '이컴공', 'email': 'computer@hoseo.edu', 'address': '충남 아산시'}\n"
          ]
        }
      ]
    },
    {
      "cell_type": "code",
      "source": [
        "# 6-2 기본 연산\n",
        "dData = {\n",
        "    \"사과\" : 300, \n",
        "    \"포도\" : 200, \n",
        "    \"배\" : 500,\n",
        "    \"키위\" : 100\n",
        "}"
      ],
      "metadata": {
        "id": "0537GU2vMdvL"
      },
      "execution_count": 34,
      "outputs": []
    },
    {
      "cell_type": "code",
      "source": [
        "# 키를 이용한 항목 검색\n",
        "print(dData[\"배\"])"
      ],
      "metadata": {
        "colab": {
          "base_uri": "https://localhost:8080/"
        },
        "id": "yWvTTXewM411",
        "outputId": "ae894090-226f-4a03-bd2d-1628f9bebd63"
      },
      "execution_count": 35,
      "outputs": [
        {
          "output_type": "stream",
          "name": "stdout",
          "text": [
            "500\n"
          ]
        }
      ]
    },
    {
      "cell_type": "code",
      "source": [
        "# get() 함수를 이용한 항목 검색\n",
        "dData.get(\"배\")"
      ],
      "metadata": {
        "colab": {
          "base_uri": "https://localhost:8080/"
        },
        "id": "1PYrrKp-M-7O",
        "outputId": "ff10ab25-31db-4138-ed82-ce701b0ba88c"
      },
      "execution_count": 36,
      "outputs": [
        {
          "output_type": "execute_result",
          "data": {
            "text/plain": [
              "500"
            ]
          },
          "metadata": {},
          "execution_count": 36
        }
      ]
    },
    {
      "cell_type": "code",
      "source": [
        "# 새로운 키 추가를 통한 항목 추가\n",
        "dData[\"딸기\"] = 100\n",
        "print(dData)"
      ],
      "metadata": {
        "colab": {
          "base_uri": "https://localhost:8080/"
        },
        "id": "e5yC4-CrNEij",
        "outputId": "6a7f922d-f27a-4cdd-81c4-21b5135bd07e"
      },
      "execution_count": 37,
      "outputs": [
        {
          "output_type": "stream",
          "name": "stdout",
          "text": [
            "{'사과': 300, '포도': 200, '배': 500, '키위': 100, '딸기': 100}\n"
          ]
        }
      ]
    },
    {
      "cell_type": "code",
      "source": [
        "# pop을 이용한 항목 삭제\n",
        "dData.pop(\"사과\")"
      ],
      "metadata": {
        "colab": {
          "base_uri": "https://localhost:8080/"
        },
        "id": "njFWLckQNVU2",
        "outputId": "a216c192-c686-4a5c-f9e7-24ffe5a24d7d"
      },
      "execution_count": 38,
      "outputs": [
        {
          "output_type": "execute_result",
          "data": {
            "text/plain": [
              "300"
            ]
          },
          "metadata": {},
          "execution_count": 38
        }
      ]
    },
    {
      "cell_type": "code",
      "source": [
        "dData"
      ],
      "metadata": {
        "colab": {
          "base_uri": "https://localhost:8080/"
        },
        "id": "zm1RhgyzNYK2",
        "outputId": "e7d3bda1-7bff-4fe5-c4b2-2e5957ca3db1"
      },
      "execution_count": 39,
      "outputs": [
        {
          "output_type": "execute_result",
          "data": {
            "text/plain": [
              "{'포도': 200, '배': 500, '키위': 100, '딸기': 100}"
            ]
          },
          "metadata": {},
          "execution_count": 39
        }
      ]
    },
    {
      "cell_type": "code",
      "source": [
        "dData.pop()"
      ],
      "metadata": {
        "colab": {
          "base_uri": "https://localhost:8080/",
          "height": 205
        },
        "id": "jNMFlNqANamq",
        "outputId": "ea93a43c-3934-4f2d-a9b6-97e391eda97a"
      },
      "execution_count": 40,
      "outputs": [
        {
          "output_type": "error",
          "ename": "TypeError",
          "evalue": "ignored",
          "traceback": [
            "\u001b[0;31m---------------------------------------------------------------------------\u001b[0m",
            "\u001b[0;31mTypeError\u001b[0m                                 Traceback (most recent call last)",
            "\u001b[0;32m<ipython-input-40-34b2f8eac69c>\u001b[0m in \u001b[0;36m<module>\u001b[0;34m\u001b[0m\n\u001b[0;32m----> 1\u001b[0;31m \u001b[0mdData\u001b[0m\u001b[0;34m.\u001b[0m\u001b[0mpop\u001b[0m\u001b[0;34m(\u001b[0m\u001b[0;34m)\u001b[0m\u001b[0;34m\u001b[0m\u001b[0;34m\u001b[0m\u001b[0m\n\u001b[0m",
            "\u001b[0;31mTypeError\u001b[0m: pop expected at least 1 arguments, got 0"
          ]
        }
      ]
    },
    {
      "cell_type": "code",
      "source": [
        "# sorted 함수를 이용한 정렬\n",
        "sorted(dData)"
      ],
      "metadata": {
        "colab": {
          "base_uri": "https://localhost:8080/"
        },
        "id": "8YgO2b5xNeWJ",
        "outputId": "590632f5-c72f-4b0a-9c8b-f0875ef5bb7a"
      },
      "execution_count": 41,
      "outputs": [
        {
          "output_type": "execute_result",
          "data": {
            "text/plain": [
              "['딸기', '배', '키위', '포도']"
            ]
          },
          "metadata": {},
          "execution_count": 41
        }
      ]
    },
    {
      "cell_type": "code",
      "source": [
        "# sorted와 values 함수를 이용하여 값을 정렬할 수 있음\n",
        "sorted(dData.values())"
      ],
      "metadata": {
        "colab": {
          "base_uri": "https://localhost:8080/"
        },
        "id": "WXh1jG0eNi6o",
        "outputId": "db066bbb-b026-4930-a9ab-c05fb49ded67"
      },
      "execution_count": 42,
      "outputs": [
        {
          "output_type": "execute_result",
          "data": {
            "text/plain": [
              "[100, 100, 200, 500]"
            ]
          },
          "metadata": {},
          "execution_count": 42
        }
      ]
    },
    {
      "cell_type": "code",
      "source": [
        "# 실제 dData는 변화가 없음\n",
        "dData"
      ],
      "metadata": {
        "colab": {
          "base_uri": "https://localhost:8080/"
        },
        "id": "MfnpOmecNi8c",
        "outputId": "1d7d7b33-1569-4ec0-e6ec-74fa94c8a425"
      },
      "execution_count": 43,
      "outputs": [
        {
          "output_type": "execute_result",
          "data": {
            "text/plain": [
              "{'포도': 200, '배': 500, '키위': 100, '딸기': 100}"
            ]
          },
          "metadata": {},
          "execution_count": 43
        }
      ]
    },
    {
      "cell_type": "code",
      "source": [
        "# 7-1 함수\n",
        "# 함수 f(x)를 생성하고 x 값을 입력으로 받음\n",
        "def f(x):\n",
        "  #x에 10을 더한 값을 출력\n",
        "  return x + 10"
      ],
      "metadata": {
        "id": "5vSg8NeRNpJO"
      },
      "execution_count": 44,
      "outputs": []
    }
  ]
}